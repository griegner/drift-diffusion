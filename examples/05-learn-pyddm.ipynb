{
 "cells": [
  {
   "cell_type": "code",
   "execution_count": 1,
   "metadata": {},
   "outputs": [],
   "source": [
    "import numpy as np\n",
    "import pandas as pd\n",
    "import pyddm\n",
    "import pyddm.plot\n",
    "import matplotlib.pyplot as plt\n",
    "from IPython.display import clear_output\n",
    "from joblib import Parallel, delayed\n",
    "\n",
    "# set notebook defaults\n",
    "%matplotlib inline"
   ]
  },
  {
   "cell_type": "markdown",
   "metadata": {},
   "source": [
    "**explore drift diffusion model**"
   ]
  },
  {
   "cell_type": "code",
   "execution_count": 2,
   "metadata": {},
   "outputs": [
    {
     "data": {
      "application/vnd.jupyter.widget-view+json": {
       "model_id": "32e40f2d38914006af997ba19c32fdad",
       "version_major": 2,
       "version_minor": 0
      },
      "text/plain": [
       "HBox(children=(VBox(children=(FloatSlider(value=-1.290739204956176, continuous_update=False, description='drif…"
      ]
     },
     "metadata": {},
     "output_type": "display_data"
    },
    {
     "data": {
      "application/vnd.jupyter.widget-view+json": {
       "model_id": "694abd7291c743c686cf83d2a59cfab2",
       "version_major": 2,
       "version_minor": 0
      },
      "text/plain": [
       "Output()"
      ]
     },
     "metadata": {},
     "output_type": "display_data"
    }
   ],
   "source": [
    "# drift diffusion model w/ free parameters\n",
    "ddm_free = pyddm.gddm(\n",
    "    drift=\"drift\",  # v: drift rate, ie the amount of evidence that accumulates in 1 sec without noise\n",
    "    bound=\"B\",  # a/2: the height of the boundary on each side\n",
    "    starting_position=\"x0\",  # z: initial position of the diffusion process (-1 to +1)\n",
    "    nondecision=0.2,  # t: nondecision time in sec\n",
    "    noise=1.0,  # sqrt{dt}: the standard deviation of noise\n",
    "    parameters=dict(drift=(-2, +2), B=(0.3, 2), x0=(-0.8, 0.8)),  # free parameters\n",
    ")\n",
    "\n",
    "# plot ddm, adjust free parameters\n",
    "pyddm.plot.model_gui_jupyter(ddm_free)"
   ]
  },
  {
   "cell_type": "markdown",
   "metadata": {},
   "source": [
    "**parameter recovery experiment**"
   ]
  },
  {
   "cell_type": "code",
   "execution_count": 3,
   "metadata": {},
   "outputs": [
    {
     "name": "stderr",
     "output_type": "stream",
     "text": [
      "Info: Params [0.54898818 0.60422946 0.29638323] gave 2427.9609881781\n"
     ]
    }
   ],
   "source": [
    "# drift diffusion model w/ fixed parameters\n",
    "params = [0.5, 0.6, 0.3]\n",
    "ddm_fixed = pyddm.gddm(\n",
    "    drift=params[0], bound=params[1], starting_position=params[2], nondecision=0.2, noise=1.0\n",
    ")\n",
    "\n",
    "# ddm -> pdf\n",
    "solution_fixed = ddm_fixed.solve()\n",
    "\n",
    "# sample from pdf\n",
    "sample_fixed = solution_fixed.sample(10_000)\n",
    "\n",
    "# fit ddm w/ free parameters\n",
    "ddm_free.fit(sample_fixed, method=\"analytical\", fitting_method=\"simplex\", verbose=False)"
   ]
  },
  {
   "cell_type": "code",
   "execution_count": 4,
   "metadata": {},
   "outputs": [],
   "source": [
    "# !! 15 sec runtime !! #\n",
    "\n",
    "\n",
    "@delayed\n",
    "def fit_ddm(ddm, solution, n_samples):\n",
    "    \"\"\"sample from fixed ddm, then fit free ddm to sample\"\"\"\n",
    "    sample = solution.sample(n_samples)\n",
    "    ddm.fit(sample, method=\"analytical\", fitting_method=\"simplex\", verbose=False)\n",
    "    return ddm.get_model_parameters()\n",
    "\n",
    "\n",
    "n_repeats, n_samples, n_jobs = 1000, 10_000, -2\n",
    "with Parallel(n_jobs=n_jobs) as parallel:\n",
    "    params_ = np.asarray(\n",
    "        parallel(fit_ddm(ddm_free, solution_fixed, n_samples) for _ in range(n_repeats))\n",
    "    )\n",
    "clear_output()"
   ]
  },
  {
   "cell_type": "code",
   "execution_count": 5,
   "metadata": {},
   "outputs": [
    {
     "data": {
      "text/plain": [
       "<matplotlib.lines.Line2D at 0x17e073d90>"
      ]
     },
     "execution_count": 5,
     "metadata": {},
     "output_type": "execute_result"
    },
    {
     "data": {
      "image/png": "[encoded data removed]",
      "text/plain": [
       "<Figure size 1000x300 with 3 Axes>"
      ]
     },
     "metadata": {},
     "output_type": "display_data"
    }
   ],
   "source": [
    "# plot n_samples = 10,000\n",
    "fig, axs = plt.subplots(ncols=3, figsize=(10, 3), sharey=True)\n",
    "hist_kwargs = dict(color=\"k\", bins=20, histtype=\"step\", lw=2)\n",
    "vline_kwargs = dict(color=\"r\", lw=3)\n",
    "axs[0].set_title(r\"$v$\")\n",
    "axs[0].hist(params_[:, 0], **hist_kwargs)\n",
    "axs[0].axvline(params[0], **vline_kwargs)\n",
    "axs[1].set_title(r\"$2a$\")\n",
    "axs[1].hist(params_[:, 1], **hist_kwargs)\n",
    "axs[1].axvline(params[1], **vline_kwargs)\n",
    "axs[2].set_title(r\"$z$\")\n",
    "axs[2].hist(params_[:, 2], **hist_kwargs)\n",
    "axs[2].axvline(params[2], **vline_kwargs)"
   ]
  },
  {
   "cell_type": "code",
   "execution_count": null,
   "metadata": {},
   "outputs": [],
   "source": [
    "# !! 50 sec runtime !! #\n",
    "\n",
    "\n",
    "def bias_var_mse(params, params_):\n",
    "    \"\"\"params (true values), params_ (matrix of estimates)\"\"\"\n",
    "    params_mean_ = params_.mean(axis=0)\n",
    "    bias_ = np.mean(params_ - params, axis=0)\n",
    "    var_ = np.mean((params_ - params_mean_) ** 2, axis=0)\n",
    "    mse_ = np.mean((params_ - params) ** 2, axis=0)\n",
    "    return bias_, var_, mse_\n",
    "\n",
    "\n",
    "n_repeats = 1000\n",
    "n_samples = np.logspace(start=1, stop=4, num=5, dtype=int)  # 10 to 10k\n",
    "\n",
    "df = {\"n\": [], \"param\": [], \"bias\": [], \"var\": [], \"mse\": []}\n",
    "\n",
    "for n in n_samples:\n",
    "    with Parallel(n_jobs=n_jobs) as parallel:\n",
    "        params_ = np.array(parallel(fit_ddm(ddm_free, solution_fixed, n) for _ in range(n_repeats)))\n",
    "    bias_, var_, mse_ = bias_var_mse(params, params_)\n",
    "    df[\"n\"].extend([n] * 3)\n",
    "    df[\"param\"].extend([\"v\", \"a\", \"z\"])\n",
    "    df[\"bias\"].extend(bias_)\n",
    "    df[\"var\"].extend(var_)\n",
    "    df[\"mse\"].extend(mse_)\n",
    "df = pd.DataFrame(df)\n",
    "clear_output()"
   ]
  }
 ],
 "metadata": {
  "kernelspec": {
   "display_name": "dev",
   "language": "python",
   "name": "python3"
  },
  "language_info": {
   "codemirror_mode": {
    "name": "ipython",
    "version": 3
   },
   "file_extension": ".py",
   "mimetype": "text/x-python",
   "name": "python",
   "nbconvert_exporter": "python",
   "pygments_lexer": "ipython3",
   "version": "3.13.0"
  }
 },
 "nbformat": 4,
 "nbformat_minor": 2
}
